{
 "cells": [
  {
   "cell_type": "code",
   "execution_count": 66,
   "metadata": {},
   "outputs": [
    {
     "name": "stderr",
     "output_type": "stream",
     "text": [
      "[nltk_data] Downloading package vader_lexicon to\n",
      "[nltk_data]     /Users/srikarpoladi/nltk_data...\n",
      "[nltk_data]   Package vader_lexicon is already up-to-date!\n"
     ]
    }
   ],
   "source": [
    "from urllib.request import urlopen, Request\n",
    "from bs4 import BeautifulSoup\n",
    "import nltk\n",
    "nltk.downloader.download('vader_lexicon')\n",
    "from nltk.sentiment.vader import SentimentIntensityAnalyzer \n",
    "import pandas as pd\n",
    "import matplotlib.pyplot as plt\n",
    "from datetime import datetime\n"
   ]
  },
  {
   "cell_type": "code",
   "execution_count": 67,
   "metadata": {},
   "outputs": [
    {
     "data": {
      "text/html": [
       "<div>\n",
       "<style scoped>\n",
       "    .dataframe tbody tr th:only-of-type {\n",
       "        vertical-align: middle;\n",
       "    }\n",
       "\n",
       "    .dataframe tbody tr th {\n",
       "        vertical-align: top;\n",
       "    }\n",
       "\n",
       "    .dataframe thead th {\n",
       "        text-align: right;\n",
       "    }\n",
       "</style>\n",
       "<table border=\"1\" class=\"dataframe\">\n",
       "  <thead>\n",
       "    <tr style=\"text-align: right;\">\n",
       "      <th></th>\n",
       "      <th>ticker</th>\n",
       "      <th>date</th>\n",
       "      <th>time</th>\n",
       "      <th>title</th>\n",
       "      <th>compound</th>\n",
       "    </tr>\n",
       "  </thead>\n",
       "  <tbody>\n",
       "    <tr>\n",
       "      <th>0</th>\n",
       "      <td>AMZN</td>\n",
       "      <td>Today</td>\n",
       "      <td>02:41PM</td>\n",
       "      <td>Earnings Calendar Spotlight: All Eyes On Apple...</td>\n",
       "      <td>0.1779</td>\n",
       "    </tr>\n",
       "    <tr>\n",
       "      <th>1</th>\n",
       "      <td>AMZN</td>\n",
       "      <td>Today</td>\n",
       "      <td>[01:32PM]</td>\n",
       "      <td>Universal Music Group stock plunges 20% after ...</td>\n",
       "      <td>-0.3818</td>\n",
       "    </tr>\n",
       "    <tr>\n",
       "      <th>2</th>\n",
       "      <td>AMZN</td>\n",
       "      <td>Today</td>\n",
       "      <td>[01:30PM]</td>\n",
       "      <td>Warner Bros. stock falls after losing 'key' NB...</td>\n",
       "      <td>0.1027</td>\n",
       "    </tr>\n",
       "    <tr>\n",
       "      <th>3</th>\n",
       "      <td>AMZN</td>\n",
       "      <td>Today</td>\n",
       "      <td>[01:14PM]</td>\n",
       "      <td>Warner Bros. Stock Gets Benched After NBA Loss...</td>\n",
       "      <td>-0.4939</td>\n",
       "    </tr>\n",
       "    <tr>\n",
       "      <th>4</th>\n",
       "      <td>AMZN</td>\n",
       "      <td>Today</td>\n",
       "      <td>[11:37AM]</td>\n",
       "      <td>Amazon racing to develop AI chips cheaper, fas...</td>\n",
       "      <td>0.1779</td>\n",
       "    </tr>\n",
       "  </tbody>\n",
       "</table>\n",
       "</div>"
      ],
      "text/plain": [
       "  ticker   date       time                                              title  \\\n",
       "0   AMZN  Today    02:41PM  Earnings Calendar Spotlight: All Eyes On Apple...   \n",
       "1   AMZN  Today  [01:32PM]  Universal Music Group stock plunges 20% after ...   \n",
       "2   AMZN  Today  [01:30PM]  Warner Bros. stock falls after losing 'key' NB...   \n",
       "3   AMZN  Today  [01:14PM]  Warner Bros. Stock Gets Benched After NBA Loss...   \n",
       "4   AMZN  Today  [11:37AM]  Amazon racing to develop AI chips cheaper, fas...   \n",
       "\n",
       "   compound  \n",
       "0    0.1779  \n",
       "1   -0.3818  \n",
       "2    0.1027  \n",
       "3   -0.4939  \n",
       "4    0.1779  "
      ]
     },
     "execution_count": 67,
     "metadata": {},
     "output_type": "execute_result"
    }
   ],
   "source": [
    "finviz_url = \"https://finviz.com/quote.ashx?t=\"\n",
    "tickers = [\"AMZN\", \"NVDA\", \"META\"]\n",
    "\n",
    "news_tables = {}\n",
    "\n",
    "for ticker in tickers:\n",
    "    url = finviz_url+ticker\n",
    "\n",
    "    req = Request(url=url, headers={\"user-agent\":'my-app'})\n",
    "    response = urlopen(req)\n",
    "    \n",
    "    html = BeautifulSoup(response, features='html.parser')\n",
    "    \n",
    "    news_table = html.find(id=\"news-table\")\n",
    "    news_tables[ticker] = news_table\n",
    "\n",
    "'''\n",
    "amzn_data = news_tables[\"AMZN\"]\n",
    "amzn_rows = amzn_data.findAll(\"tr\")\n",
    "\n",
    "for index,row in enumerate(amzn_rows):\n",
    "    title = row.a.text\n",
    "    timestamp = row.td.text\n",
    "\n",
    "'''\n",
    "\n",
    "parsed_data = []\n",
    "\n",
    "for ticker, news_table in news_tables.items():\n",
    "\n",
    "    for row in news_table.findAll('tr'):\n",
    "\n",
    "        a_tag = row.find('a', class_='tab-link-news')\n",
    "        \n",
    "        if a_tag:\n",
    "            title = a_tag.text\n",
    "            date_data = row.td.text.split()\n",
    "\n",
    "            if len(date_data) == 2:\n",
    "                date = date_data[0]\n",
    "                time = date_data[1]\n",
    "            else:\n",
    "                time = date_data\n",
    "\n",
    "\n",
    "            parsed_data.append([ticker, date, time, title])\n",
    "        else:\n",
    "            # Handle cases where a_tag is None, if necessary\n",
    "            continue\n",
    "        \n",
    "df = pd.DataFrame(parsed_data, columns=['ticker', 'date', 'time', 'title'])\n",
    "\n",
    "vader = SentimentIntensityAnalyzer()\n",
    "\n",
    "f = lambda title: vader.polarity_scores(title)[\"compound\"]\n",
    "df['compound'] = df[\"title\"].apply(f)\n",
    "\n",
    "df.head()"
   ]
  },
  {
   "cell_type": "code",
   "execution_count": 68,
   "metadata": {},
   "outputs": [
    {
     "name": "stderr",
     "output_type": "stream",
     "text": [
      "/var/folders/sb/3g822kv954s3d7032z9m7ckh0000gn/T/ipykernel_37294/921691552.py:2: UserWarning: Could not infer format, so each element will be parsed individually, falling back to `dateutil`. To ensure parsing is consistent and as-expected, please specify a format.\n",
      "  df[\"date\"] = pd.to_datetime(df.date).dt.date\n"
     ]
    },
    {
     "data": {
      "text/plain": [
       "0      2024-07-25\n",
       "1      2024-07-25\n",
       "2      2024-07-25\n",
       "3      2024-07-25\n",
       "4      2024-07-25\n",
       "          ...    \n",
       "295    2024-07-18\n",
       "296    2024-07-18\n",
       "297    2024-07-18\n",
       "298    2024-07-18\n",
       "299    2024-07-18\n",
       "Name: date, Length: 300, dtype: object"
      ]
     },
     "execution_count": 68,
     "metadata": {},
     "output_type": "execute_result"
    }
   ],
   "source": [
    "df['date'] = df['date'].apply(lambda x: 'Jul-25-24' if x == 'Today' else x)\n",
    "df[\"date\"] = pd.to_datetime(df.date).dt.date\n",
    "df.date"
   ]
  },
  {
   "cell_type": "code",
   "execution_count": 69,
   "metadata": {},
   "outputs": [
    {
     "data": {
      "text/plain": [
       "ticker  date      \n",
       "AMZN    2024-07-21    0.200120\n",
       "        2024-07-22    0.177421\n",
       "        2024-07-23    0.174821\n",
       "        2024-07-24    0.198833\n",
       "        2024-07-25    0.090925\n",
       "META    2024-07-18    0.116567\n",
       "        2024-07-19    0.031042\n",
       "        2024-07-20    0.229275\n",
       "        2024-07-21    0.027867\n",
       "        2024-07-22    0.190754\n",
       "        2024-07-23    0.125213\n",
       "        2024-07-24    0.037741\n",
       "        2024-07-25    0.208131\n",
       "NVDA    2024-07-23    0.257447\n",
       "        2024-07-24    0.096037\n",
       "        2024-07-25    0.124207\n",
       "Name: compound, dtype: float64"
      ]
     },
     "execution_count": 69,
     "metadata": {},
     "output_type": "execute_result"
    },
    {
     "data": {
      "text/plain": [
       "<Figure size 1000x800 with 0 Axes>"
      ]
     },
     "metadata": {},
     "output_type": "display_data"
    }
   ],
   "source": [
    "plt.figure(figsize=(10,8))\n",
    "\n",
    "mean_df = df.groupby(['ticker','date'])[\"compound\"].mean()\n",
    "mean_df"
   ]
  },
  {
   "cell_type": "code",
   "execution_count": 70,
   "metadata": {},
   "outputs": [
    {
     "data": {
      "text/html": [
       "<div>\n",
       "<style scoped>\n",
       "    .dataframe tbody tr th:only-of-type {\n",
       "        vertical-align: middle;\n",
       "    }\n",
       "\n",
       "    .dataframe tbody tr th {\n",
       "        vertical-align: top;\n",
       "    }\n",
       "\n",
       "    .dataframe thead th {\n",
       "        text-align: right;\n",
       "    }\n",
       "</style>\n",
       "<table border=\"1\" class=\"dataframe\">\n",
       "  <thead>\n",
       "    <tr style=\"text-align: right;\">\n",
       "      <th>date</th>\n",
       "      <th>2024-07-18</th>\n",
       "      <th>2024-07-19</th>\n",
       "      <th>2024-07-20</th>\n",
       "      <th>2024-07-21</th>\n",
       "      <th>2024-07-22</th>\n",
       "      <th>2024-07-23</th>\n",
       "      <th>2024-07-24</th>\n",
       "      <th>2024-07-25</th>\n",
       "    </tr>\n",
       "    <tr>\n",
       "      <th>ticker</th>\n",
       "      <th></th>\n",
       "      <th></th>\n",
       "      <th></th>\n",
       "      <th></th>\n",
       "      <th></th>\n",
       "      <th></th>\n",
       "      <th></th>\n",
       "      <th></th>\n",
       "    </tr>\n",
       "  </thead>\n",
       "  <tbody>\n",
       "    <tr>\n",
       "      <th>AMZN</th>\n",
       "      <td>NaN</td>\n",
       "      <td>NaN</td>\n",
       "      <td>NaN</td>\n",
       "      <td>0.200120</td>\n",
       "      <td>0.177421</td>\n",
       "      <td>0.174821</td>\n",
       "      <td>0.198833</td>\n",
       "      <td>0.090925</td>\n",
       "    </tr>\n",
       "    <tr>\n",
       "      <th>META</th>\n",
       "      <td>0.116567</td>\n",
       "      <td>0.031042</td>\n",
       "      <td>0.229275</td>\n",
       "      <td>0.027867</td>\n",
       "      <td>0.190754</td>\n",
       "      <td>0.125213</td>\n",
       "      <td>0.037741</td>\n",
       "      <td>0.208131</td>\n",
       "    </tr>\n",
       "    <tr>\n",
       "      <th>NVDA</th>\n",
       "      <td>NaN</td>\n",
       "      <td>NaN</td>\n",
       "      <td>NaN</td>\n",
       "      <td>NaN</td>\n",
       "      <td>NaN</td>\n",
       "      <td>0.257447</td>\n",
       "      <td>0.096037</td>\n",
       "      <td>0.124207</td>\n",
       "    </tr>\n",
       "  </tbody>\n",
       "</table>\n",
       "</div>"
      ],
      "text/plain": [
       "date    2024-07-18  2024-07-19  2024-07-20  2024-07-21  2024-07-22  \\\n",
       "ticker                                                               \n",
       "AMZN           NaN         NaN         NaN    0.200120    0.177421   \n",
       "META      0.116567    0.031042    0.229275    0.027867    0.190754   \n",
       "NVDA           NaN         NaN         NaN         NaN         NaN   \n",
       "\n",
       "date    2024-07-23  2024-07-24  2024-07-25  \n",
       "ticker                                      \n",
       "AMZN      0.174821    0.198833    0.090925  \n",
       "META      0.125213    0.037741    0.208131  \n",
       "NVDA      0.257447    0.096037    0.124207  "
      ]
     },
     "execution_count": 70,
     "metadata": {},
     "output_type": "execute_result"
    }
   ],
   "source": [
    "mean_df = mean_df.unstack()\n",
    "mean_df"
   ]
  },
  {
   "cell_type": "code",
   "execution_count": 71,
   "metadata": {},
   "outputs": [
    {
     "data": {
      "image/png": "[encoded data removed]",
      "text/plain": [
       "<Figure size 640x480 with 1 Axes>"
      ]
     },
     "metadata": {},
     "output_type": "display_data"
    }
   ],
   "source": [
    "mean_df.plot(kind='bar')\n",
    "plt.show()"
   ]
  }
 ],
 "metadata": {
  "kernelspec": {
   "display_name": ".venv",
   "language": "python",
   "name": "python3"
  },
  "language_info": {
   "codemirror_mode": {
    "name": "ipython",
    "version": 3
   },
   "file_extension": ".py",
   "mimetype": "text/x-python",
   "name": "python",
   "nbconvert_exporter": "python",
   "pygments_lexer": "ipython3",
   "version": "3.11.4"
  }
 },
 "nbformat": 4,
 "nbformat_minor": 2
}
